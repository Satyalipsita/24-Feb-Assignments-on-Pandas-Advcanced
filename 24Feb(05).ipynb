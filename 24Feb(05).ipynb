{
  "metadata": {
    "language_info": {
      "codemirror_mode": {
        "name": "python",
        "version": 3
      },
      "file_extension": ".py",
      "mimetype": "text/x-python",
      "name": "python",
      "nbconvert_exporter": "python",
      "pygments_lexer": "ipython3",
      "version": "3.8"
    },
    "kernelspec": {
      "name": "python",
      "display_name": "Python (Pyodide)",
      "language": "python"
    }
  },
  "nbformat_minor": 4,
  "nbformat": 4,
  "cells": [
    {
      "cell_type": "code",
      "source": "#Q-5--Dataframe.size()--Determine the memory eg 20gb of dataframe.\n#Dataframe.shape()-- Determine the rows and column eg(80,20) menas data frame contains 80 rows and 20 coloumns.\n",
      "metadata": {},
      "execution_count": null,
      "outputs": []
    }
  ]
}