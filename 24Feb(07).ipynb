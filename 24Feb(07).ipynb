{
 "cells": [
  {
   "cell_type": "code",
   "execution_count": 2,
   "id": "a246a098-0686-4467-87f7-1c892f0158b0",
   "metadata": {},
   "outputs": [
    {
     "name": "stdout",
     "output_type": "stream",
     "text": [
      "                mail\n",
      "0     saty@yahoo.com\n",
      "1  lipsita@gmail.com\n"
     ]
    }
   ],
   "source": [
    "import pandas as pd\n",
    "df=pd.DataFrame({'mail':[\"saty@yahoo.com\",\"lipsita@gmail.com\"]})\n",
    "print(df)\n"
   ]
  },
  {
   "cell_type": "code",
   "execution_count": 10,
   "id": "5eb0dfb4-2a9d-433a-8c2b-7a1889d304a5",
   "metadata": {},
   "outputs": [
    {
     "name": "stdout",
     "output_type": "stream",
     "text": [
      "                mail              Username\n",
      "0     saty@yahoo.com     [saty, yahoo.com]\n",
      "1  lipsita@gmail.com  [lipsita, gmail.com]\n"
     ]
    }
   ],
   "source": [
    "df[\"Username\"] = df[\"mail\"].str.split(\"@\")\n",
    "print(df)"
   ]
  },
  {
   "cell_type": "code",
   "execution_count": 8,
   "id": "340189b0-f382-4476-b9d1-a49b979aa375",
   "metadata": {},
   "outputs": [
    {
     "data": {
      "text/plain": [
       "0       [saty, yahoo.com]\n",
       "1    [lipsita, gmail.com]\n",
       "Name: Username, dtype: object"
      ]
     },
     "execution_count": 8,
     "metadata": {},
     "output_type": "execute_result"
    }
   ],
   "source": [
    "df[\"Username\"]"
   ]
  },
  {
   "cell_type": "code",
   "execution_count": 21,
   "id": "b9953b61-eb4d-4a23-9c4c-13df49950e86",
   "metadata": {},
   "outputs": [],
   "source": [
    "df[[\"name\"]].append=df[\"Username\"].str.split(\",\")"
   ]
  },
  {
   "cell_type": "code",
   "execution_count": null,
   "id": "977e2ccc-c81a-4841-b6d2-1244c0d35db3",
   "metadata": {},
   "outputs": [],
   "source": [
    "df[\"name\"]"
   ]
  }
 ],
 "metadata": {
  "kernelspec": {
   "display_name": "Python 3 (ipykernel)",
   "language": "python",
   "name": "python3"
  },
  "language_info": {
   "codemirror_mode": {
    "name": "ipython",
    "version": 3
   },
   "file_extension": ".py",
   "mimetype": "text/x-python",
   "name": "python",
   "nbconvert_exporter": "python",
   "pygments_lexer": "ipython3",
   "version": "3.10.8"
  }
 },
 "nbformat": 4,
 "nbformat_minor": 5
}
