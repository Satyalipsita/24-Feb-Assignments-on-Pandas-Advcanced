{
 "cells": [
  {
   "cell_type": "code",
   "execution_count": null,
   "id": "71627509-43df-4420-9f8f-44e25fffe84b",
   "metadata": {},
   "outputs": [],
   "source": [
    "import numpy as np\n",
    "import pandas as pd\n",
    "\n",
    "df = pd.DataFrame(np.random.random((200,3)))\n",
    "df['date'] = pd.date_range('200-23-1-1', periods=200, freq='D')\n",
    "df = df.set_index(['date'])\n",
    "print(df.loc['2023-1-1':'20234-1-31'])"
   ]
  },
  {
   "cell_type": "code",
   "execution_count": null,
   "id": "1448bce3-b318-4966-bfd8-12d1d957dce8",
   "metadata": {},
   "outputs": [],
   "source": []
  },
  {
   "cell_type": "code",
   "execution_count": null,
   "id": "4a95d4c6-a122-4bd4-9571-3dcc3f467fa0",
   "metadata": {},
   "outputs": [],
   "source": []
  }
 ],
 "metadata": {
  "kernelspec": {
   "display_name": "Python 3 (ipykernel)",
   "language": "python",
   "name": "python3"
  },
  "language_info": {
   "codemirror_mode": {
    "name": "ipython",
    "version": 3
   },
   "file_extension": ".py",
   "mimetype": "text/x-python",
   "name": "python",
   "nbconvert_exporter": "python",
   "pygments_lexer": "ipython3",
   "version": "3.10.8"
  }
 },
 "nbformat": 4,
 "nbformat_minor": 5
}
